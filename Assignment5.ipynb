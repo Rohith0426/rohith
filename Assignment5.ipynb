{
 "cells": [
  {
   "cell_type": "markdown",
   "metadata": {},
   "source": [
    "To sum all the items in a dictionary"
   ]
  },
  {
   "cell_type": "code",
   "execution_count": 3,
   "metadata": {},
   "outputs": [
    {
     "name": "stdout",
     "output_type": "stream",
     "text": [
      "Sum : 835\n"
     ]
    }
   ],
   "source": [
    "def Sum(myDict):\n",
    "     \n",
    "    sum = 0\n",
    "    for i in myDict:\n",
    "        sum = sum + myDict[i]\n",
    "     \n",
    "    return sum\n",
    " \n",
    "dict = {'a': 350, 'b':20, 'c':465}\n",
    "print(\"Sum :\", returnSum(dict))\n"
   ]
  },
  {
   "cell_type": "markdown",
   "metadata": {},
   "source": [
    "Demonstrate accessing an from a dictionary"
   ]
  },
  {
   "cell_type": "code",
   "execution_count": 6,
   "metadata": {},
   "outputs": [
    {
     "name": "stdout",
     "output_type": "stream",
     "text": [
      "Cone\n"
     ]
    }
   ],
   "source": [
    "mydict ={\n",
    "  \"Flavour\":\"Choco\",\n",
    "   \"Type\":\"Cone\",\n",
    "   \"Cost\":\"50\"\n",
    "}\n",
    "x = mydict[\"Type\"]\n",
    "print(x)\n"
   ]
  },
  {
   "cell_type": "markdown",
   "metadata": {},
   "source": [
    "To concate two dictionaries"
   ]
  },
  {
   "cell_type": "code",
   "execution_count": 7,
   "metadata": {},
   "outputs": [
    {
     "name": "stdout",
     "output_type": "stream",
     "text": [
      "Updated dictionary 1 :\n",
      "{'Apple': 4, 'Orange': 7, 'Lichi': 1, 'Cake': 6, 'Food': 8}\n"
     ]
    }
   ],
   "source": [
    "dict1={\"Apple\":4,\"Orange\":7,\"Lichi\":1}\n",
    "dict2={\"Cake\":6,\"Food\":8,}\n",
    "dict1.update(dict2)\n",
    "print('Updated dictionary 1 :')\n",
    "print(dict1)"
   ]
  },
  {
   "cell_type": "markdown",
   "metadata": {},
   "source": [
    "To add keys/values in a dictionary"
   ]
  },
  {
   "cell_type": "code",
   "execution_count": 11,
   "metadata": {},
   "outputs": [
    {
     "name": "stdout",
     "output_type": "stream",
     "text": [
      "Current Dict is:  {'key1': 'Python', 'key2': 'Math'}\n",
      "Updated Dict is:  {'key1': 'Python', 'key2': 'Math', 'key3': 'English', 'key4': 'Bio'}\n"
     ]
    }
   ],
   "source": [
    "dict = {'key1':'Python', 'key2':'Math'} \n",
    "print(\"Current Dict is: \", dict) \n",
    "dict['key3'] = 'English'\n",
    "dict['key4'] = 'Bio'\n",
    "print(\"Updated Dict is: \", dict) "
   ]
  },
  {
   "cell_type": "markdown",
   "metadata": {},
   "source": [
    "To find the lenght of a dictionary "
   ]
  },
  {
   "cell_type": "code",
   "execution_count": 13,
   "metadata": {},
   "outputs": [
    {
     "name": "stdout",
     "output_type": "stream",
     "text": [
      "Length : 2\n"
     ]
    }
   ],
   "source": [
    "dict = {'Name':'Ro','Age':'18'}\n",
    "print (\"Length : %d\" % len (dict))"
   ]
  },
  {
   "cell_type": "markdown",
   "metadata": {},
   "source": [
    "To remove items from the dictionary"
   ]
  },
  {
   "cell_type": "code",
   "execution_count": 17,
   "metadata": {},
   "outputs": [
    {
     "name": "stdout",
     "output_type": "stream",
     "text": [
      "{'Day': 'Monday', 'Month': 'Feb', 'Year': '2019'}\n",
      "{'Day': 'Monday', 'Month': 'Feb'}\n"
     ]
    }
   ],
   "source": [
    "mydict = {\n",
    "  \"Day\":\"Monday\",\n",
    "  \"Month\":\"Feb\",\n",
    "  \"Year\" :\"2019\" \n",
    "}\n",
    "print(mydict)\n",
    "del mydict[\"Year\"]\n",
    "print(mydict)"
   ]
  },
  {
   "cell_type": "code",
   "execution_count": null,
   "metadata": {},
   "outputs": [],
   "source": []
  }
 ],
 "metadata": {
  "kernelspec": {
   "display_name": "Python 3",
   "language": "python",
   "name": "python3"
  },
  "language_info": {
   "codemirror_mode": {
    "name": "ipython",
    "version": 3
   },
   "file_extension": ".py",
   "mimetype": "text/x-python",
   "name": "python",
   "nbconvert_exporter": "python",
   "pygments_lexer": "ipython3",
   "version": "3.7.6"
  }
 },
 "nbformat": 4,
 "nbformat_minor": 4
}
